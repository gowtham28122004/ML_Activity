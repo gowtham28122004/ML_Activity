{
 "cells": [
  {
   "cell_type": "code",
   "execution_count": 2,
   "metadata": {},
   "outputs": [
    {
     "name": "stdout",
     "output_type": "stream",
     "text": [
      "[[67 81]\n",
      " [80 72]]\n",
      "              precision    recall  f1-score   support\n",
      "\n",
      "           0       0.46      0.45      0.45       148\n",
      "           1       0.47      0.47      0.47       152\n",
      "\n",
      "    accuracy                           0.46       300\n",
      "   macro avg       0.46      0.46      0.46       300\n",
      "weighted avg       0.46      0.46      0.46       300\n",
      "\n",
      "Accuracy Score: 0.4633333333333333\n"
     ]
    }
   ],
   "source": [
    "import numpy as np\n",
    "import pandas as pd\n",
    "from sklearn.model_selection import train_test_split\n",
    "from sklearn.preprocessing import StandardScaler\n",
    "from sklearn.linear_model import LogisticRegression\n",
    "from sklearn.metrics import classification_report, accuracy_score, confusion_matrix\n",
    "from imblearn.over_sampling import SMOTE\n",
    "from imblearn.under_sampling import RandomUnderSampler\n",
    "\n",
    "np.random.seed(42)\n",
    "num_samples = 1000\n",
    "\n",
    "data = {\n",
    "    'Transaction_Amount': np.random.rand(num_samples) * 1000,\n",
    "    'Location': np.random.randint(1, 6, num_samples),\n",
    "    'User_Behavior': np.random.randint(0, 2, num_samples),\n",
    "    'Fraudulent': np.random.randint(0, 2, num_samples)\n",
    "}\n",
    "\n",
    "df = pd.DataFrame(data)\n",
    "\n",
    "X = df[['Transaction_Amount', 'Location', 'User_Behavior']]\n",
    "y = df['Fraudulent']\n",
    "\n",
    "X_train, X_test, y_train, y_test = train_test_split(X, y, test_size=0.3, random_state=42)\n",
    "\n",
    "scaler = StandardScaler()\n",
    "X_train_scaled = scaler.fit_transform(X_train)\n",
    "X_test_scaled = scaler.transform(X_test)\n",
    "\n",
    "# Handle class imbalance using SMOTE (Synthetic Minority Over-sampling Technique)\n",
    "smote = SMOTE(sampling_strategy='minority')\n",
    "X_train_balanced, y_train_balanced = smote.fit_resample(X_train_scaled, y_train)\n",
    "\n",
    "model = LogisticRegression()\n",
    "model.fit(X_train_balanced, y_train_balanced)\n",
    "\n",
    "y_pred = model.predict(X_test_scaled)\n",
    "\n",
    "print(confusion_matrix(y_test, y_pred))\n",
    "print(classification_report(y_test, y_pred))\n",
    "print(\"Accuracy Score:\", accuracy_score(y_test, y_pred))\n"
   ]
  }
 ],
 "metadata": {
  "kernelspec": {
   "display_name": "Python 3",
   "language": "python",
   "name": "python3"
  },
  "language_info": {
   "codemirror_mode": {
    "name": "ipython",
    "version": 3
   },
   "file_extension": ".py",
   "mimetype": "text/x-python",
   "name": "python",
   "nbconvert_exporter": "python",
   "pygments_lexer": "ipython3",
   "version": "3.12.6"
  }
 },
 "nbformat": 4,
 "nbformat_minor": 2
}
