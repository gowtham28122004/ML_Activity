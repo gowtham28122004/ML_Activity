{
 "cells": [
  {
   "cell_type": "code",
   "execution_count": 1,
   "metadata": {},
   "outputs": [
    {
     "name": "stdout",
     "output_type": "stream",
     "text": [
      "[[29 43]\n",
      " [28 50]]\n",
      "              precision    recall  f1-score   support\n",
      "\n",
      "           0       0.51      0.40      0.45        72\n",
      "           1       0.54      0.64      0.58        78\n",
      "\n",
      "    accuracy                           0.53       150\n",
      "   macro avg       0.52      0.52      0.52       150\n",
      "weighted avg       0.52      0.53      0.52       150\n",
      "\n",
      "Accuracy Score: 0.5266666666666666\n"
     ]
    }
   ],
   "source": [
    "import numpy as np\n",
    "import pandas as pd\n",
    "from sklearn.model_selection import train_test_split\n",
    "from sklearn.feature_extraction.text import TfidfVectorizer\n",
    "from sklearn.svm import SVC\n",
    "from sklearn.metrics import classification_report, accuracy_score, confusion_matrix\n",
    "\n",
    "np.random.seed(42)\n",
    "num_samples = 500\n",
    "\n",
    "emails = [\"Sample email content \" + str(i) for i in range(num_samples)]\n",
    "labels = np.random.randint(0, 2, num_samples)\n",
    "\n",
    "vectorizer = TfidfVectorizer(max_features=300)\n",
    "X = vectorizer.fit_transform(emails).toarray()\n",
    "y = labels\n",
    "\n",
    "X_train, X_test, y_train, y_test = train_test_split(X, y, test_size=0.3, random_state=42)\n",
    "\n",
    "svm_model = SVC(kernel='linear')\n",
    "svm_model.fit(X_train, y_train)\n",
    "\n",
    "y_pred = svm_model.predict(X_test)\n",
    "\n",
    "print(confusion_matrix(y_test, y_pred))\n",
    "print(classification_report(y_test, y_pred))\n",
    "print(\"Accuracy Score:\", accuracy_score(y_test, y_pred))\n"
   ]
  }
 ],
 "metadata": {
  "kernelspec": {
   "display_name": "Python 3",
   "language": "python",
   "name": "python3"
  },
  "language_info": {
   "codemirror_mode": {
    "name": "ipython",
    "version": 3
   },
   "file_extension": ".py",
   "mimetype": "text/x-python",
   "name": "python",
   "nbconvert_exporter": "python",
   "pygments_lexer": "ipython3",
   "version": "3.12.6"
  }
 },
 "nbformat": 4,
 "nbformat_minor": 2
}
