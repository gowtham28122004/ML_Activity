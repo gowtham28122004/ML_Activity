{
 "cells": [
  {
   "cell_type": "code",
   "execution_count": 1,
   "metadata": {},
   "outputs": [
    {
     "name": "stdout",
     "output_type": "stream",
     "text": [
      "[[16 29]\n",
      " [23 22]]\n",
      "              precision    recall  f1-score   support\n",
      "\n",
      "           0       0.41      0.36      0.38        45\n",
      "           1       0.43      0.49      0.46        45\n",
      "\n",
      "    accuracy                           0.42        90\n",
      "   macro avg       0.42      0.42      0.42        90\n",
      "weighted avg       0.42      0.42      0.42        90\n",
      "\n",
      "Accuracy Score: 0.4222222222222222\n",
      "\n",
      "Coefficients:\n",
      "              Feature  Coefficient\n",
      "0       Credit_Score    -0.409671\n",
      "1       Income_Level    -0.203223\n",
      "2  Employment_Status     0.048110\n"
     ]
    }
   ],
   "source": [
    "import numpy as np\n",
    "import pandas as pd\n",
    "from sklearn.model_selection import train_test_split\n",
    "from sklearn.preprocessing import StandardScaler\n",
    "from sklearn.linear_model import LogisticRegression\n",
    "from sklearn.metrics import classification_report, accuracy_score, confusion_matrix\n",
    "\n",
    "np.random.seed(42)\n",
    "num_samples = 300\n",
    "\n",
    "data = {\n",
    "    'Credit_Score': np.random.randint(300, 850, num_samples),\n",
    "    'Income_Level': np.random.randint(20000, 150000, num_samples),\n",
    "    'Employment_Status': np.random.randint(0, 2, num_samples),\n",
    "    'Default': np.random.randint(0, 2, num_samples)\n",
    "}\n",
    "\n",
    "df = pd.DataFrame(data)\n",
    "\n",
    "X = df[['Credit_Score', 'Income_Level', 'Employment_Status']]\n",
    "y = df['Default']\n",
    "\n",
    "scaler = StandardScaler()\n",
    "X_scaled = scaler.fit_transform(X)\n",
    "\n",
    "X_train, X_test, y_train, y_test = train_test_split(X_scaled, y, test_size=0.3, random_state=42)\n",
    "\n",
    "model = LogisticRegression()\n",
    "model.fit(X_train, y_train)\n",
    "\n",
    "y_pred = model.predict(X_test)\n",
    "\n",
    "print(confusion_matrix(y_test, y_pred))\n",
    "print(classification_report(y_test, y_pred))\n",
    "print(\"Accuracy Score:\", accuracy_score(y_test, y_pred))\n",
    "\n",
    "coefficients = pd.DataFrame({\n",
    "    'Feature': ['Credit_Score', 'Income_Level', 'Employment_Status'],\n",
    "    'Coefficient': model.coef_[0]\n",
    "})\n",
    "print(\"\\nCoefficients:\\n\", coefficients)\n"
   ]
  }
 ],
 "metadata": {
  "kernelspec": {
   "display_name": "Python 3",
   "language": "python",
   "name": "python3"
  },
  "language_info": {
   "codemirror_mode": {
    "name": "ipython",
    "version": 3
   },
   "file_extension": ".py",
   "mimetype": "text/x-python",
   "name": "python",
   "nbconvert_exporter": "python",
   "pygments_lexer": "ipython3",
   "version": "3.12.6"
  }
 },
 "nbformat": 4,
 "nbformat_minor": 2
}
